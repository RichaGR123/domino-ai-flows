{
 "cells": [
  {
   "cell_type": "code",
   "execution_count": null,
   "id": "923bad57",
   "metadata": {},
   "outputs": [],
   "source": [
    "from flytekit import workflow\n",
    "#from flytekitplugins.domino.task import DominoJobConfig, DominoJobTask\n",
    "from domino_flows import run_domino_job_task\n",
    "\n",
    "@workflow\n",
    "def training_workflow(data_path: str) -> FlyteFile:   \n",
    "    \n",
    "data_prep_results = run_domino_job_task(\n",
    "    flyte_task_name=\"Prepare data\",\n",
    "    command=\"python /mnt/code/scripts/process-data.py\",\n",
    "    environment_name=\"Domino Standard Environment Py3.11 R4.4\",\n",
    "    hardware_tier_name=\"Small\",\n",
    "    inputs=[\n",
    "        Input(name=\"data_path\", type=str, value=data_path)\n",
    "    ],\n",
    "    output_specs=[\n",
    "        Output(name=\"processed_data\", type=FlyteFile[TypeVar(\"csv\")])\n",
    "    ],\n",
    "    use_project_defaults_for_omitted=True\n",
    ")\n",
    "\n",
    "processed_data = data_prep_results(data_path=data_path)\n",
    "\n",
    "training_results = run_domino_job_task(\n",
    "    flyte_task_name=\"Train model\",\n",
    "    command=\"python /mnt/code/scripts/train-model.py\",\n",
    "    environment_name=\"Domino Standard Environment Py3.11 R4.4\",\n",
    "    hardware_tier_name=\"Small\",\n",
    "    inputs=[\n",
    "        Input(name=\"processed_data\", type=FlyteFile[TypeVar(\"csv\")], value=data_prep_results['processed_data']),\n",
    "        Input(name=\"epochs\", type=int, value=10),\n",
    "        Input(name=\"batch_size\", type=int, value=32)\n",
    "    ],\n",
    "    output_specs=[\n",
    "        Output(name=\"model\", type=FlyteFile)\n",
    "    ],\n",
    "    use_project_defaults_for_omitted=True\n",
    ")\n",
    "\n",
    "model = training_results(processed_data=processed_data)\n",
    "\n",
    "    return model"
   ]
  }
 ],
 "metadata": {
  "kernelspec": {
   "display_name": "Python 3 (ipykernel)",
   "language": "python",
   "name": "python3"
  },
  "language_info": {
   "codemirror_mode": {
    "name": "ipython",
    "version": 3
   },
   "file_extension": ".py",
   "mimetype": "text/x-python",
   "name": "python",
   "nbconvert_exporter": "python",
   "pygments_lexer": "ipython3",
   "version": "3.10.14"
  }
 },
 "nbformat": 4,
 "nbformat_minor": 5
}
